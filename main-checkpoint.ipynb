{
 "cells": [
  {
   "cell_type": "code",
   "execution_count": 1,
   "metadata": {},
   "outputs": [],
   "source": [
    "import pandas as pd\n",
    "import os\n",
    "import csv"
   ]
  },
  {
   "cell_type": "code",
   "execution_count": 2,
   "metadata": {},
   "outputs": [
    {
     "data": {
      "text/plain": [
       "'C:\\\\Users\\\\Austria\\\\Desktop\\\\python-homework\\\\PyBank'"
      ]
     },
     "execution_count": 2,
     "metadata": {},
     "output_type": "execute_result"
    }
   ],
   "source": [
    "pwd"
   ]
  },
  {
   "cell_type": "code",
   "execution_count": 3,
   "metadata": {},
   "outputs": [],
   "source": [
    "months = []\n",
    "profit_loss_changes = []\n",
    "count_months = 0\n",
    "net_profit_loss = 0\n",
    "previous_month_profit_loss = 0\n",
    "current_month_profit_loss = 0\n",
    "profit_loss_change = 0"
   ]
  },
  {
   "cell_type": "code",
   "execution_count": 4,
   "metadata": {},
   "outputs": [],
   "source": [
    "df = pd.read_csv(r'C:\\Users\\Austria\\Desktop\\python-homework\\PyBank\\Budget_data1.csv')"
   ]
  },
  {
   "cell_type": "code",
   "execution_count": 5,
   "metadata": {},
   "outputs": [
    {
     "name": "stdout",
     "output_type": "stream",
     "text": [
      "        Date  Profit/Losses\n",
      "0   Jan-2010         867884\n",
      "1   Feb-2010         984655\n",
      "2   Mar-2010         322013\n",
      "3   Apr-2010         -69417\n",
      "4   May-2010         310503\n",
      "..       ...            ...\n",
      "81  Oct-2016         102685\n",
      "82  Nov-2016         795914\n",
      "83  Dec-2016          60988\n",
      "84  Jan-2017         138230\n",
      "85  Feb-2017         671099\n",
      "\n",
      "[86 rows x 2 columns]\n"
     ]
    }
   ],
   "source": [
    "print(df)"
   ]
  },
  {
   "cell_type": "code",
   "execution_count": 6,
   "metadata": {},
   "outputs": [],
   "source": [
    "csv_reader = csv.reader(df, delimiter=';')"
   ]
  },
  {
   "cell_type": "code",
   "execution_count": 7,
   "metadata": {},
   "outputs": [],
   "source": [
    "csv_header = next(csv_reader)"
   ]
  },
  {
   "cell_type": "code",
   "execution_count": 10,
   "metadata": {},
   "outputs": [],
   "source": [
    "for row in csv_reader:\n",
    "\n",
    "#Total months\n",
    "    count_months += 1\n",
    "    \n",
    "#Total P/L over the entire period\n",
    "    current_month_profit_loss = int(row[1])\n",
    "    net_profit_loss += current_month_profit_loss\n",
    "    \n",
    "    if (count_months == 1):\n",
    "        # Make the value of previous month to be equal to current month\n",
    "        previous_month_profit_loss = current_month_profit_loss\n",
    "        continue\n",
    "    \n",
    "    else:\n",
    "        \n",
    "        # Change in profit loss \n",
    "        profit_loss_change = current_month_profit_loss - previous_month_profit_loss\n",
    "\n",
    "        # Append each month to the months[]\n",
    "        months.append(row[0])\n",
    "\n",
    "        # Append profit_loss_change to the profit_loss_changes[]\n",
    "        profit_loss_changes.append(profit_loss_change)\n",
    "\n",
    "        # Next loop\n",
    "        previous_month_profit_loss = current_month_profit_loss\n",
    "        \n",
    "    #sum of the changes in \"Profit/Losses\" over the entire period\n",
    "    sum_profit_loss = sum(profit_loss_changes)\n",
    "    #average of the changes in \"Profit/Losses\" over the entire period\n",
    "    average_profit_loss = round(sum_profit_loss/(count_months - 1), 2)\n",
    "\n",
    "    #highest change in P/L\n",
    "    highest_change = max(profit_loss_changes)\n",
    "    #lowest change in P/L\n",
    "    lowest_change = min(profit_loss_changes)\n",
    "\n",
    "    #Highest index change in P/L\n",
    "    highest_month_index = profit_loss_changes.index(highest_change)\n",
    "    #Lowesr index change in P/L\n",
    "    lowest_month_index = profit_loss_changes.index(lowest_change)\n",
    "\n",
    "    #Best Month\n",
    "    best_month = months[highest_month_index]\n",
    "    #Worst Month\n",
    "    worst_month = months[lowest_month_index]"
   ]
  },
  {
   "cell_type": "code",
   "execution_count": null,
   "metadata": {},
   "outputs": [],
   "source": [
    "print(\"Financial Analysis\")\n",
    "print(f'___________________________')\n",
    "print(f\"Total Months:  {count_months}\")\n",
    "print(f\"Total:  ${net_profit_loss}\")\n",
    "print(f\"Average Change:  ${average_profit_loss}\")\n",
    "print(f\"Greatest Increase in Profits:  {best_month} (${highest_change})\")\n",
    "print(f\"Greatest Decrease in Losses:  {worst_month} (${lowest_change})\")"
   ]
  },
  {
   "cell_type": "code",
   "execution_count": null,
   "metadata": {},
   "outputs": [],
   "source": [
    "budget_file = os.path.join(\"Output\", \"budget_data.txt\")\n",
    "with open(budget_file, \"w\") as outfile:\n",
    "\n",
    "    outfile.write(\"Financial Analysis\\n\")\n",
    "    outfile.write(\"----------------------------\\n\")\n",
    "    outfile.write(f\"Total Months:  {count_months}\\n\")\n",
    "    outfile.write(f\"Total:  ${net_profit_loss}\\n\")\n",
    "    outfile.write(f\"Average Change:  ${average_profit_loss}\\n\")\n",
    "    outfile.write(f\"Greatest Increase in Profits:  {best_month} (${highest_change})\\n\")\n",
    "    outfile.write(f\"Greatest Decrease in Losses:  {worst_month} (${lowest_change})\\n\")"
   ]
  }
 ],
 "metadata": {
  "kernelspec": {
   "display_name": "Python 3",
   "language": "python",
   "name": "python3"
  },
  "language_info": {
   "codemirror_mode": {
    "name": "ipython",
    "version": 3
   },
   "file_extension": ".py",
   "mimetype": "text/x-python",
   "name": "python",
   "nbconvert_exporter": "python",
   "pygments_lexer": "ipython3",
   "version": "3.8.3"
  }
 },
 "nbformat": 4,
 "nbformat_minor": 4
}
